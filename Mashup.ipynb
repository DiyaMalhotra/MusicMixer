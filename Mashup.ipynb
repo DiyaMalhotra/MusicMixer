{
  "nbformat": 4,
  "nbformat_minor": 0,
  "metadata": {
    "colab": {
      "provenance": [],
      "authorship_tag": "ABX9TyOs1cInYLw0iSPqrZryU2/n",
      "include_colab_link": true
    },
    "kernelspec": {
      "name": "python3",
      "display_name": "Python 3"
    },
    "language_info": {
      "name": "python"
    }
  },
  "cells": [
    {
      "cell_type": "markdown",
      "metadata": {
        "id": "view-in-github",
        "colab_type": "text"
      },
      "source": [
        "<a href=\"https://colab.research.google.com/github/DiyaMalhotra/MusicMixer/blob/main/Mashup.ipynb\" target=\"_parent\"><img src=\"https://colab.research.google.com/assets/colab-badge.svg\" alt=\"Open In Colab\"/></a>"
      ]
    },
    {
      "cell_type": "markdown",
      "source": [
        "**Just run main(), add the information and the mashup is ready!!**"
      ],
      "metadata": {
        "id": "7UJv1fJXkGBe"
      }
    },
    {
      "cell_type": "code",
      "execution_count": null,
      "metadata": {
        "colab": {
          "base_uri": "https://localhost:8080/"
        },
        "id": "Grjd-LaYbLTR",
        "outputId": "2c57a2ed-b59e-43b0-893b-701011bae0f0"
      },
      "outputs": [
        {
          "output_type": "stream",
          "name": "stdout",
          "text": [
            "Looking in indexes: https://pypi.org/simple, https://us-python.pkg.dev/colab-wheels/public/simple/\n",
            "Collecting youtube-video\n",
            "  Downloading youtube_video-1.0.0-py3-none-any.whl (2.8 kB)\n",
            "Collecting pytube\n",
            "  Downloading pytube-12.1.2-py3-none-any.whl (57 kB)\n",
            "\u001b[2K     \u001b[90m━━━━━━━━━━━━━━━━━━━━━━━━━━━━━━━━━━━━━━━━\u001b[0m \u001b[32m57.0/57.0 KB\u001b[0m \u001b[31m2.0 MB/s\u001b[0m eta \u001b[36m0:00:00\u001b[0m\n",
            "\u001b[?25hInstalling collected packages: pytube, youtube-video\n",
            "Successfully installed pytube-12.1.2 youtube-video-1.0.0\n"
          ]
        }
      ],
      "source": [
        "!pip install youtube-video"
      ]
    },
    {
      "cell_type": "code",
      "source": [
        "from Youtube_Downloader.youtube import download\n",
        "\n",
        "def download_video(url,destination):\n",
        "  video = download()\n",
        "  video.Download_video_in_360_resolution(url,destination)"
      ],
      "metadata": {
        "colab": {
          "base_uri": "https://localhost:8080/"
        },
        "id": "atmoHh2jbWwu",
        "outputId": "dcd6b4a3-4b1f-4484-92ee-1bc93631ec2e"
      },
      "execution_count": null,
      "outputs": [
        {
          "output_type": "stream",
          "name": "stdout",
          "text": [
            "Hello Users\n"
          ]
        }
      ]
    },
    {
      "cell_type": "code",
      "source": [
        "import urllib. request\n",
        "import re"
      ],
      "metadata": {
        "id": "UwGSrRE2f7jK"
      },
      "execution_count": null,
      "outputs": []
    },
    {
      "cell_type": "code",
      "source": [
        "\n",
        "import os, sys, time, threading, multiprocessing, random as r\n",
        "\n",
        "# Function runs for random seconds\n",
        "def task(cmd,search_keyword,n,thread):\n",
        "\n",
        "    waitingTime = r.randint(5,10)\n",
        "    \n",
        "    m=n/thread\n",
        "    m=int(m)\n",
        "    print(m)\n",
        "    \n",
        "    print(\"  Task %s started\" % (cmd))\n",
        "    print(\"   Task %s running for %d sec....\" % (cmd, waitingTime))\n",
        "    #time.sleep(waitingTime)\n",
        "    search=search_keyword.split(sep=' ')\n",
        "    search_keyword1 = search[0]\n",
        "    search_keyword2 = search[1]\n",
        "    html = urllib.request.urlopen(\"https://www.youtube.com/results?search_query=\"+search_keyword1+\"+\"+search_keyword2+\"+songs&sp=CAASBBABGAE%253D\")\n",
        "    video_ids = re.findall(r\"watch\\?v=(\\S{11})\", html.read().decode())\n",
        "  #print(video_ids)\n",
        "  #print(html.read().decode())\n",
        "  #print (\"https://www.youtube.com/watch?v=\" + video_ids[0])\n",
        "    \n",
        "    for i in range(1,m+1):\n",
        "      url=\"https://www.youtube.com/watch?v=\" + video_ids[i-1]\n",
        "      print(url)\n",
        "      location=\"/content/\"+str(search_keyword)\n",
        "      download_video(url,location)\n",
        "\n",
        "    print(\"  Task %s ends\" % (cmd))\n",
        "    \n",
        "    return"
      ],
      "metadata": {
        "id": "zV9G-_09dMpj"
      },
      "execution_count": null,
      "outputs": []
    },
    {
      "cell_type": "code",
      "source": [
        "def run(artist,number):\n",
        " startTime = time.time()\n",
        " activeThreads =threading.activeCount()\n",
        " threads=5\n",
        " numberOfCores=multiprocessing.cpu_count()\n",
        "\n",
        "\n",
        " for i in range(threads):\n",
        "    cmd = str(i+1)\n",
        "    print(\" Thread %s starts\"%(cmd))\n",
        "    n=number\n",
        "    n=4*n\n",
        "    t = threading.Thread(target=task , args=(cmd,artist,n,threads,))\n",
        "    t.start()\n",
        "    while True:\n",
        "      if threading.activeCount() - activeThreads + 1 <= numberOfCores:\n",
        "        break\n",
        "      time.sleep(1)\n",
        "\n",
        "    time.sleep(1)\n",
        "\n",
        "# Waiting to finish all Threads\n",
        "    while True:\n",
        "      if threading.activeCount() == activeThreads:\n",
        "        break\n",
        "      else:\n",
        "        print (\"    Thread still running (left %d)...\"%(threading.activeCount() - activeThreads))\n",
        "        time.sleep(1)\n",
        "  \n",
        "\n",
        "\n"
      ],
      "metadata": {
        "id": "Ir4IPb8adIs_"
      },
      "execution_count": null,
      "outputs": []
    },
    {
      "cell_type": "code",
      "source": [
        "!pip install ffmpeg moviepy"
      ],
      "metadata": {
        "colab": {
          "base_uri": "https://localhost:8080/"
        },
        "id": "AwQoaznthHm3",
        "outputId": "3afab52e-a6b2-4433-bcb3-9d9ff5f5631b"
      },
      "execution_count": null,
      "outputs": [
        {
          "output_type": "stream",
          "name": "stdout",
          "text": [
            "Looking in indexes: https://pypi.org/simple, https://us-python.pkg.dev/colab-wheels/public/simple/\n",
            "Collecting ffmpeg\n",
            "  Downloading ffmpeg-1.4.tar.gz (5.1 kB)\n",
            "  Preparing metadata (setup.py) ... \u001b[?25l\u001b[?25hdone\n",
            "Requirement already satisfied: moviepy in /usr/local/lib/python3.8/dist-packages (0.2.3.5)\n",
            "Requirement already satisfied: imageio<3.0,>=2.1.2 in /usr/local/lib/python3.8/dist-packages (from moviepy) (2.9.0)\n",
            "Requirement already satisfied: decorator<5.0,>=4.0.2 in /usr/local/lib/python3.8/dist-packages (from moviepy) (4.4.2)\n",
            "Requirement already satisfied: numpy in /usr/local/lib/python3.8/dist-packages (from moviepy) (1.21.6)\n",
            "Requirement already satisfied: tqdm<5.0,>=4.11.2 in /usr/local/lib/python3.8/dist-packages (from moviepy) (4.64.1)\n",
            "Requirement already satisfied: pillow in /usr/local/lib/python3.8/dist-packages (from imageio<3.0,>=2.1.2->moviepy) (7.1.2)\n",
            "Building wheels for collected packages: ffmpeg\n",
            "  Building wheel for ffmpeg (setup.py) ... \u001b[?25l\u001b[?25hdone\n",
            "  Created wheel for ffmpeg: filename=ffmpeg-1.4-py3-none-any.whl size=6084 sha256=22d0ab4db3c664aceeb81f0975a7ad1f4246bcb34cb67f8d1c1efaecf4c70c8b\n",
            "  Stored in directory: /root/.cache/pip/wheels/30/33/46/5ab7eca55b9490dddbf3441c68a29535996270ef1ce8b9b6d7\n",
            "Successfully built ffmpeg\n",
            "Installing collected packages: ffmpeg\n",
            "Successfully installed ffmpeg-1.4\n"
          ]
        }
      ]
    },
    {
      "cell_type": "code",
      "source": [
        "!pip install imageio-ffmpeg"
      ],
      "metadata": {
        "colab": {
          "base_uri": "https://localhost:8080/"
        },
        "id": "BRYqyGqdhfm1",
        "outputId": "29fac670-c16d-4b56-87fe-39eff4ba6c54"
      },
      "execution_count": null,
      "outputs": [
        {
          "output_type": "stream",
          "name": "stdout",
          "text": [
            "Looking in indexes: https://pypi.org/simple, https://us-python.pkg.dev/colab-wheels/public/simple/\n",
            "Collecting imageio-ffmpeg\n",
            "  Downloading imageio_ffmpeg-0.4.8-py3-none-manylinux2010_x86_64.whl (26.9 MB)\n",
            "\u001b[2K     \u001b[90m━━━━━━━━━━━━━━━━━━━━━━━━━━━━━━━━━━━━━━━━\u001b[0m \u001b[32m26.9/26.9 MB\u001b[0m \u001b[31m22.2 MB/s\u001b[0m eta \u001b[36m0:00:00\u001b[0m\n",
            "\u001b[?25hInstalling collected packages: imageio-ffmpeg\n",
            "Successfully installed imageio-ffmpeg-0.4.8\n"
          ]
        }
      ]
    },
    {
      "cell_type": "code",
      "source": [
        "!pip install moviepy\n",
        "\n",
        "!pip3 install imageio==2.4.1\n",
        "\n",
        "!pip install --upgrade imageio-ffmpeg\n",
        "\n"
      ],
      "metadata": {
        "colab": {
          "base_uri": "https://localhost:8080/"
        },
        "id": "sYetd5a9iWoX",
        "outputId": "8a155715-c08b-430b-90fd-892f106826bc"
      },
      "execution_count": null,
      "outputs": [
        {
          "output_type": "stream",
          "name": "stdout",
          "text": [
            "Looking in indexes: https://pypi.org/simple, https://us-python.pkg.dev/colab-wheels/public/simple/\n",
            "Requirement already satisfied: moviepy in /usr/local/lib/python3.8/dist-packages (0.2.3.5)\n",
            "Requirement already satisfied: tqdm<5.0,>=4.11.2 in /usr/local/lib/python3.8/dist-packages (from moviepy) (4.64.1)\n",
            "Requirement already satisfied: decorator<5.0,>=4.0.2 in /usr/local/lib/python3.8/dist-packages (from moviepy) (4.4.2)\n",
            "Requirement already satisfied: imageio<3.0,>=2.1.2 in /usr/local/lib/python3.8/dist-packages (from moviepy) (2.9.0)\n",
            "Requirement already satisfied: numpy in /usr/local/lib/python3.8/dist-packages (from moviepy) (1.21.6)\n",
            "Requirement already satisfied: pillow in /usr/local/lib/python3.8/dist-packages (from imageio<3.0,>=2.1.2->moviepy) (7.1.2)\n",
            "Looking in indexes: https://pypi.org/simple, https://us-python.pkg.dev/colab-wheels/public/simple/\n",
            "Collecting imageio==2.4.1\n",
            "  Downloading imageio-2.4.1.tar.gz (3.3 MB)\n",
            "\u001b[2K     \u001b[90m━━━━━━━━━━━━━━━━━━━━━━━━━━━━━━━━━━━━━━━━\u001b[0m \u001b[32m3.3/3.3 MB\u001b[0m \u001b[31m30.6 MB/s\u001b[0m eta \u001b[36m0:00:00\u001b[0m\n",
            "\u001b[?25h  Preparing metadata (setup.py) ... \u001b[?25l\u001b[?25hdone\n",
            "Requirement already satisfied: numpy in /usr/local/lib/python3.8/dist-packages (from imageio==2.4.1) (1.21.6)\n",
            "Requirement already satisfied: pillow in /usr/local/lib/python3.8/dist-packages (from imageio==2.4.1) (7.1.2)\n",
            "Building wheels for collected packages: imageio\n",
            "  Building wheel for imageio (setup.py) ... \u001b[?25l\u001b[?25hdone\n",
            "  Created wheel for imageio: filename=imageio-2.4.1-py3-none-any.whl size=3303886 sha256=c297a9c15eadf924c93d247513af4718be35623e5348731626c3989dd14d9908\n",
            "  Stored in directory: /root/.cache/pip/wheels/be/7b/04/4d8d56f1d503e5c404f0de6018c0cfa592c71588a39b49e002\n",
            "Successfully built imageio\n",
            "Installing collected packages: imageio\n",
            "  Attempting uninstall: imageio\n",
            "    Found existing installation: imageio 2.9.0\n",
            "    Uninstalling imageio-2.9.0:\n",
            "      Successfully uninstalled imageio-2.9.0\n",
            "Successfully installed imageio-2.4.1\n",
            "Looking in indexes: https://pypi.org/simple, https://us-python.pkg.dev/colab-wheels/public/simple/\n",
            "Requirement already satisfied: imageio-ffmpeg in /usr/local/lib/python3.8/dist-packages (0.4.8)\n"
          ]
        }
      ]
    },
    {
      "cell_type": "code",
      "source": [
        "!pip install moviepy==1.0.3\n",
        "import imageio\n"
      ],
      "metadata": {
        "id": "Ihr6Lm2Ah-qL",
        "colab": {
          "base_uri": "https://localhost:8080/",
          "height": 835
        },
        "outputId": "768f5333-f98d-4bea-a6f2-52785ff64f72"
      },
      "execution_count": null,
      "outputs": [
        {
          "output_type": "stream",
          "name": "stdout",
          "text": [
            "Looking in indexes: https://pypi.org/simple, https://us-python.pkg.dev/colab-wheels/public/simple/\n",
            "Collecting moviepy==1.0.3\n",
            "  Downloading moviepy-1.0.3.tar.gz (388 kB)\n",
            "\u001b[2K     \u001b[90m━━━━━━━━━━━━━━━━━━━━━━━━━━━━━━━━━━━━━━━\u001b[0m \u001b[32m388.3/388.3 KB\u001b[0m \u001b[31m7.7 MB/s\u001b[0m eta \u001b[36m0:00:00\u001b[0m\n",
            "\u001b[?25h  Preparing metadata (setup.py) ... \u001b[?25l\u001b[?25hdone\n",
            "Requirement already satisfied: decorator<5.0,>=4.0.2 in /usr/local/lib/python3.8/dist-packages (from moviepy==1.0.3) (4.4.2)\n",
            "Requirement already satisfied: tqdm<5.0,>=4.11.2 in /usr/local/lib/python3.8/dist-packages (from moviepy==1.0.3) (4.64.1)\n",
            "Requirement already satisfied: requests<3.0,>=2.8.1 in /usr/local/lib/python3.8/dist-packages (from moviepy==1.0.3) (2.25.1)\n",
            "Collecting proglog<=1.0.0\n",
            "  Downloading proglog-0.1.10-py3-none-any.whl (6.1 kB)\n",
            "Requirement already satisfied: numpy>=1.17.3 in /usr/local/lib/python3.8/dist-packages (from moviepy==1.0.3) (1.21.6)\n",
            "Collecting imageio<3.0,>=2.5\n",
            "  Downloading imageio-2.25.1-py3-none-any.whl (3.4 MB)\n",
            "\u001b[2K     \u001b[90m━━━━━━━━━━━━━━━━━━━━━━━━━━━━━━━━━━━━━━━━\u001b[0m \u001b[32m3.4/3.4 MB\u001b[0m \u001b[31m49.9 MB/s\u001b[0m eta \u001b[36m0:00:00\u001b[0m\n",
            "\u001b[?25hRequirement already satisfied: imageio_ffmpeg>=0.2.0 in /usr/local/lib/python3.8/dist-packages (from moviepy==1.0.3) (0.4.8)\n",
            "Collecting pillow>=8.3.2\n",
            "  Downloading Pillow-9.4.0-cp38-cp38-manylinux_2_28_x86_64.whl (3.4 MB)\n",
            "\u001b[2K     \u001b[90m━━━━━━━━━━━━━━━━━━━━━━━━━━━━━━━━━━━━━━━━\u001b[0m \u001b[32m3.4/3.4 MB\u001b[0m \u001b[31m65.0 MB/s\u001b[0m eta \u001b[36m0:00:00\u001b[0m\n",
            "\u001b[?25hRequirement already satisfied: chardet<5,>=3.0.2 in /usr/local/lib/python3.8/dist-packages (from requests<3.0,>=2.8.1->moviepy==1.0.3) (4.0.0)\n",
            "Requirement already satisfied: certifi>=2017.4.17 in /usr/local/lib/python3.8/dist-packages (from requests<3.0,>=2.8.1->moviepy==1.0.3) (2022.12.7)\n",
            "Requirement already satisfied: idna<3,>=2.5 in /usr/local/lib/python3.8/dist-packages (from requests<3.0,>=2.8.1->moviepy==1.0.3) (2.10)\n",
            "Requirement already satisfied: urllib3<1.27,>=1.21.1 in /usr/local/lib/python3.8/dist-packages (from requests<3.0,>=2.8.1->moviepy==1.0.3) (1.24.3)\n",
            "Building wheels for collected packages: moviepy\n",
            "  Building wheel for moviepy (setup.py) ... \u001b[?25l\u001b[?25hdone\n",
            "  Created wheel for moviepy: filename=moviepy-1.0.3-py3-none-any.whl size=110742 sha256=6bc5d498462f6d70d60b9e722a7dd144accdc257c5eb765c6ef194aef76bf149\n",
            "  Stored in directory: /root/.cache/pip/wheels/e4/a4/db/0368d3a04033da662e13926594b3a8cf1aa4ffeefe570cfac1\n",
            "Successfully built moviepy\n",
            "Installing collected packages: proglog, pillow, imageio, moviepy\n",
            "  Attempting uninstall: pillow\n",
            "    Found existing installation: Pillow 7.1.2\n",
            "    Uninstalling Pillow-7.1.2:\n",
            "      Successfully uninstalled Pillow-7.1.2\n",
            "  Attempting uninstall: imageio\n",
            "    Found existing installation: imageio 2.4.1\n",
            "    Uninstalling imageio-2.4.1:\n",
            "      Successfully uninstalled imageio-2.4.1\n",
            "  Attempting uninstall: moviepy\n",
            "    Found existing installation: moviepy 0.2.3.5\n",
            "    Uninstalling moviepy-0.2.3.5:\n",
            "      Successfully uninstalled moviepy-0.2.3.5\n",
            "Successfully installed imageio-2.25.1 moviepy-1.0.3 pillow-9.4.0 proglog-0.1.10\n"
          ]
        },
        {
          "output_type": "display_data",
          "data": {
            "application/vnd.colab-display-data+json": {
              "pip_warning": {
                "packages": [
                  "PIL"
                ]
              }
            }
          },
          "metadata": {}
        }
      ]
    },
    {
      "cell_type": "code",
      "source": [
        "!pip install moviepy==1.0.2"
      ],
      "metadata": {
        "colab": {
          "base_uri": "https://localhost:8080/"
        },
        "id": "t2QupcTw0QJu",
        "outputId": "4a5351d2-e9af-418c-b4bf-17f4bd4d59bd"
      },
      "execution_count": null,
      "outputs": [
        {
          "output_type": "stream",
          "name": "stdout",
          "text": [
            "Looking in indexes: https://pypi.org/simple, https://us-python.pkg.dev/colab-wheels/public/simple/\n",
            "Collecting moviepy==1.0.2\n",
            "  Downloading moviepy-1.0.2.tar.gz (7.8 MB)\n",
            "\u001b[2K     \u001b[90m━━━━━━━━━━━━━━━━━━━━━━━━━━━━━━━━━━━━━━━━\u001b[0m \u001b[32m7.8/7.8 MB\u001b[0m \u001b[31m47.8 MB/s\u001b[0m eta \u001b[36m0:00:00\u001b[0m\n",
            "\u001b[?25h  Preparing metadata (setup.py) ... \u001b[?25l\u001b[?25hdone\n",
            "Requirement already satisfied: decorator<5.0,>=4.0.2 in /usr/local/lib/python3.8/dist-packages (from moviepy==1.0.2) (4.4.2)\n",
            "Requirement already satisfied: tqdm<5.0,>=4.11.2 in /usr/local/lib/python3.8/dist-packages (from moviepy==1.0.2) (4.64.1)\n",
            "Requirement already satisfied: requests<3.0,>=2.8.1 in /usr/local/lib/python3.8/dist-packages (from moviepy==1.0.2) (2.25.1)\n",
            "Requirement already satisfied: proglog<=1.0.0 in /usr/local/lib/python3.8/dist-packages (from moviepy==1.0.2) (0.1.10)\n",
            "Requirement already satisfied: numpy>=1.17.3 in /usr/local/lib/python3.8/dist-packages (from moviepy==1.0.2) (1.21.6)\n",
            "Requirement already satisfied: imageio<3.0,>=2.5 in /usr/local/lib/python3.8/dist-packages (from moviepy==1.0.2) (2.25.1)\n",
            "Requirement already satisfied: imageio_ffmpeg>=0.2.0 in /usr/local/lib/python3.8/dist-packages (from moviepy==1.0.2) (0.4.8)\n",
            "Requirement already satisfied: pillow>=8.3.2 in /usr/local/lib/python3.8/dist-packages (from imageio<3.0,>=2.5->moviepy==1.0.2) (9.4.0)\n",
            "Requirement already satisfied: chardet<5,>=3.0.2 in /usr/local/lib/python3.8/dist-packages (from requests<3.0,>=2.8.1->moviepy==1.0.2) (4.0.0)\n",
            "Requirement already satisfied: certifi>=2017.4.17 in /usr/local/lib/python3.8/dist-packages (from requests<3.0,>=2.8.1->moviepy==1.0.2) (2022.12.7)\n",
            "Requirement already satisfied: idna<3,>=2.5 in /usr/local/lib/python3.8/dist-packages (from requests<3.0,>=2.8.1->moviepy==1.0.2) (2.10)\n",
            "Requirement already satisfied: urllib3<1.27,>=1.21.1 in /usr/local/lib/python3.8/dist-packages (from requests<3.0,>=2.8.1->moviepy==1.0.2) (1.24.3)\n",
            "Building wheels for collected packages: moviepy\n",
            "  Building wheel for moviepy (setup.py) ... \u001b[?25l\u001b[?25hdone\n",
            "  Created wheel for moviepy: filename=moviepy-1.0.2-py3-none-any.whl size=110744 sha256=f71859f898d265b48b9a812b9344e6266af477aa9a5cfdf0b53dc228a4b90e38\n",
            "  Stored in directory: /root/.cache/pip/wheels/50/36/bf/d2d3531afbd92c783ec82e8ad701d2fa885a4efef8b3e816d2\n",
            "Successfully built moviepy\n",
            "Installing collected packages: moviepy\n",
            "  Attempting uninstall: moviepy\n",
            "    Found existing installation: moviepy 1.0.3\n",
            "    Uninstalling moviepy-1.0.3:\n",
            "      Successfully uninstalled moviepy-1.0.3\n",
            "Successfully installed moviepy-1.0.2\n"
          ]
        }
      ]
    },
    {
      "cell_type": "code",
      "source": [
        "import moviepy.editor as mp\n",
        "from moviepy.video.io.VideoFileClip import AudioFileClip\n",
        "import os\n",
        "def audio_trim(n,sec,artist):\n",
        " n=int(n)\n",
        " file='/content/'+artist+'/'\n",
        " f1=[]\n",
        " for files in os.walk(file):\n",
        "   f1.append(files)\n",
        "   print(f1)\n",
        " os.mkdir(\"/content/audio/\")\n",
        " for i in range(0,n):\n",
        "  file1='/content/'+artist+'/'\n",
        "  file1=file1+str(f1[0][2][i])\n",
        " \n",
        "  clip = AudioFileClip(file1).subclip(sec,)\n",
        "  \n",
        "  clip.write_audiofile(\"/content/audio/\"+str(i+1)+\".mp3\")\n",
        "  clip.close()\n",
        "  \n",
        "\n"
      ],
      "metadata": {
        "id": "mvItV67ngulu"
      },
      "execution_count": null,
      "outputs": []
    },
    {
      "cell_type": "code",
      "source": [
        "!pip install pydub"
      ],
      "metadata": {
        "colab": {
          "base_uri": "https://localhost:8080/"
        },
        "id": "pmzTBf4IdKT-",
        "outputId": "a921abed-7586-4c19-c417-8f6809d3fda8"
      },
      "execution_count": null,
      "outputs": [
        {
          "output_type": "stream",
          "name": "stdout",
          "text": [
            "Looking in indexes: https://pypi.org/simple, https://us-python.pkg.dev/colab-wheels/public/simple/\n",
            "Collecting pydub\n",
            "  Downloading pydub-0.25.1-py2.py3-none-any.whl (32 kB)\n",
            "Installing collected packages: pydub\n",
            "Successfully installed pydub-0.25.1\n"
          ]
        }
      ]
    },
    {
      "cell_type": "code",
      "source": [
        "from pydub import AudioSegment\n",
        "def merge(n,final,artist):\n",
        "\n",
        " sounds=[]\n",
        " sound1 = AudioSegment.from_mp3(\"/content/audio/\"+str(1)+\".mp3\")\n",
        " for i in range(2,n+1):\n",
        "   print(i)\n",
        "   file=\"/content/\"+\"audio/\"+str(i)+\".mp3\"\n",
        "   sound = AudioSegment.from_mp3(file)\n",
        "   sound1=sound1.append(sound,crossfade=20)\n",
        " final_location='/content/'+final+'.mp3'\n",
        " sound1.export(final_location,format=\"mp3\")\n"
      ],
      "metadata": {
        "id": "fHQAgJOJQwGV"
      },
      "execution_count": null,
      "outputs": []
    },
    {
      "cell_type": "code",
      "source": [
        "def main():\n",
        " artist=input(\"Name of artist \")\n",
        " numofVideos=int(input(\"Number of Videos \"))\n",
        " trimmedaudio=input(\"Trimmed part duration \")\n",
        " outputfile=input(\"Name of output file\")\n",
        " run(artist,numofVideos)\n",
        " audio_trim(numofVideos,trimmedaudio,artist)\n",
        " merge(numofVideos,outputfile,artist)\n",
        "\n",
        "\n",
        "  \n",
        "\n"
      ],
      "metadata": {
        "id": "Zcx3ei1Gdkam"
      },
      "execution_count": null,
      "outputs": []
    },
    {
      "cell_type": "code",
      "source": [
        "main()"
      ],
      "metadata": {
        "id": "vJNYhkwv4f52",
        "colab": {
          "base_uri": "https://localhost:8080/"
        },
        "outputId": "672d565e-f15c-4177-eeaa-884f5f0b9839"
      },
      "execution_count": null,
      "outputs": [
        {
          "output_type": "stream",
          "name": "stdout",
          "text": [
            "Name of artist taylor swift\n",
            "Number of Videos 5\n",
            "Trimmed part duration 30\n",
            "Name of output fileTaylor_mashup\n",
            " Thread 1 starts\n",
            "4\n",
            "  Task 1 started\n",
            "   Task 1 running for 7 sec....\n",
            "https://www.youtube.com/watch?v=VuNIsY6JdUw\n",
            "Hello Users\n",
            "    Thread still running (left 1)...\n",
            "    Thread still running (left 1)...\n",
            "    Thread still running (left 1)...\n",
            "https://www.youtube.com/watch?v=h8DLofLM7No\n",
            "Hello Users\n",
            "    Thread still running (left 1)...\n",
            "https://www.youtube.com/watch?v=VmBoTeLsKfs\n",
            "Hello Users\n",
            "    Thread still running (left 1)...\n",
            "    Thread still running (left 1)...\n",
            "https://www.youtube.com/watch?v=9eakEQSBR8o\n",
            "Hello Users\n",
            "    Thread still running (left 1)...\n",
            "  Task 1 ends\n",
            " Thread 2 starts\n",
            "4\n",
            "  Task 2 started\n",
            "   Task 2 running for 9 sec....\n",
            "https://www.youtube.com/watch?v=VuNIsY6JdUw\n",
            "Hello Users\n",
            "    Thread still running (left 1)...\n",
            "    Thread still running (left 1)...\n",
            "https://www.youtube.com/watch?v=h8DLofLM7No\n",
            "Hello Users\n",
            "    Thread still running (left 1)...\n",
            "https://www.youtube.com/watch?v=VmBoTeLsKfs\n",
            "Hello Users\n",
            "    Thread still running (left 1)...\n",
            "https://www.youtube.com/watch?v=9eakEQSBR8o\n",
            "Hello Users\n",
            "    Thread still running (left 1)...\n",
            "    Thread still running (left 1)...\n",
            "  Task 2 ends\n",
            " Thread 3 starts\n",
            "4\n",
            "  Task 3 started\n",
            "   Task 3 running for 9 sec....\n",
            "https://www.youtube.com/watch?v=VuNIsY6JdUw\n",
            "Hello Users\n",
            "    Thread still running (left 1)...\n",
            "    Thread still running (left 1)...\n",
            "https://www.youtube.com/watch?v=h8DLofLM7No\n",
            "Hello Users\n",
            "    Thread still running (left 1)...\n",
            "https://www.youtube.com/watch?v=tCXGJQYZ9JA\n",
            "Hello Users\n",
            "    Thread still running (left 1)...\n",
            "https://www.youtube.com/watch?v=8xG7mH8i-WE\n",
            "Hello Users\n",
            "    Thread still running (left 1)...\n",
            "    Thread still running (left 1)...\n",
            "  Task 3 ends\n",
            " Thread 4 starts\n",
            "4\n",
            "  Task 4 started\n",
            "   Task 4 running for 6 sec....\n",
            "https://www.youtube.com/watch?v=VuNIsY6JdUw\n",
            "Hello Users\n",
            "    Thread still running (left 1)...\n",
            "    Thread still running (left 1)...\n",
            "https://www.youtube.com/watch?v=h8DLofLM7No\n",
            "Hello Users\n",
            "    Thread still running (left 1)...\n",
            "    Thread still running (left 1)...\n",
            "https://www.youtube.com/watch?v=VmBoTeLsKfs\n",
            "Hello Users\n",
            "    Thread still running (left 1)...\n",
            "https://www.youtube.com/watch?v=9eakEQSBR8o\n",
            "Hello Users\n",
            "    Thread still running (left 1)...\n",
            "  Task 4 ends\n",
            " Thread 5 starts\n",
            "4\n",
            "  Task 5 started\n",
            "   Task 5 running for 8 sec....\n",
            "https://www.youtube.com/watch?v=VuNIsY6JdUw\n",
            "Hello Users\n",
            "    Thread still running (left 1)...\n",
            "    Thread still running (left 1)...\n",
            "https://www.youtube.com/watch?v=h8DLofLM7No\n",
            "Hello Users\n",
            "    Thread still running (left 1)...\n",
            "https://www.youtube.com/watch?v=VmBoTeLsKfs\n",
            "Hello Users\n",
            "    Thread still running (left 1)...\n",
            "https://www.youtube.com/watch?v=9eakEQSBR8o\n",
            "Hello Users\n",
            "    Thread still running (left 1)...\n",
            "  Task 5 ends\n",
            "[('/content/taylor swift/', [], ['Taylor Swift - You Belong With Me.mp4', 'Shake It Off - Taylor Swift (Lyrics) 🎵.mp4', 'Taylor Swift - I Knew You Were Trouble (Lyrics).mp4', 'Taylor Swift - Delicate.mp4', 'Taylor Swift - Lavender Haze (Official Music Video).mp4', 'I Knew You Were Trouble.mp4'])]\n",
            "MoviePy - Writing audio in /content/audio/1.mp3\n"
          ]
        },
        {
          "output_type": "stream",
          "name": "stderr",
          "text": []
        },
        {
          "output_type": "stream",
          "name": "stdout",
          "text": [
            "MoviePy - Done.\n",
            "MoviePy - Writing audio in /content/audio/2.mp3\n"
          ]
        },
        {
          "output_type": "stream",
          "name": "stderr",
          "text": []
        },
        {
          "output_type": "stream",
          "name": "stdout",
          "text": [
            "MoviePy - Done.\n",
            "MoviePy - Writing audio in /content/audio/3.mp3\n"
          ]
        },
        {
          "output_type": "stream",
          "name": "stderr",
          "text": []
        },
        {
          "output_type": "stream",
          "name": "stdout",
          "text": [
            "MoviePy - Done.\n",
            "MoviePy - Writing audio in /content/audio/4.mp3\n"
          ]
        },
        {
          "output_type": "stream",
          "name": "stderr",
          "text": []
        },
        {
          "output_type": "stream",
          "name": "stdout",
          "text": [
            "MoviePy - Done.\n",
            "MoviePy - Writing audio in /content/audio/5.mp3\n"
          ]
        },
        {
          "output_type": "stream",
          "name": "stderr",
          "text": []
        },
        {
          "output_type": "stream",
          "name": "stdout",
          "text": [
            "MoviePy - Done.\n",
            "2\n",
            "3\n",
            "4\n",
            "5\n"
          ]
        }
      ]
    }
  ]
}